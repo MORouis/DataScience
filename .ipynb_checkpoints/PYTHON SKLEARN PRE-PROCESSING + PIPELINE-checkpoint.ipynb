{
 "cells": [
  {
   "cell_type": "code",
   "execution_count": 65,
   "id": "094a8798",
   "metadata": {},
   "outputs": [],
   "source": [
    "import numpy as np\n",
    "from sklearn.linear_model import LinearRegression\n",
    "from sklearn.preprocessing import LabelEncoder, OrdinalEncoder,OneHotEncoder, LabelBinarizer #encodage\n",
    "from sklearn.preprocessing import MinMaxScaler, StandardScaler, RobustScaler #normalisation\n",
    "from sklearn.preprocessing import PolynomialFeatures #création de polynomes\n",
    "from sklearn.preprocessing import PowerTransformer #transformation non linéiare\n",
    "from sklearn.preprocessing import Binarizer, KBinsDiscretizer #discrétisation\n",
    "from sklearn.preprocessing import FunctionTransformer #personnalisation"
   ]
  },
  {
   "cell_type": "markdown",
   "id": "f539eb9a",
   "metadata": {},
   "source": [
    "# Transformer Sklearn"
   ]
  },
  {
   "cell_type": "code",
   "execution_count": 3,
   "id": "972087b2",
   "metadata": {},
   "outputs": [],
   "source": [
    "X = np.array(['chat',\n",
    "               'chien',\n",
    "               'chat',\n",
    "               'oiseau'])"
   ]
  },
  {
   "cell_type": "code",
   "execution_count": 4,
   "id": "798c39c2",
   "metadata": {},
   "outputs": [
    {
     "data": {
      "text/plain": [
       "LabelEncoder()"
      ]
     },
     "execution_count": 4,
     "metadata": {},
     "output_type": "execute_result"
    }
   ],
   "source": [
    "#méthode fit\n",
    "transformer = LabelEncoder()\n",
    "transformer.fit(X)"
   ]
  },
  {
   "cell_type": "code",
   "execution_count": 5,
   "id": "0a9b2e12",
   "metadata": {},
   "outputs": [
    {
     "data": {
      "text/plain": [
       "array([0, 1, 0, 2])"
      ]
     },
     "execution_count": 5,
     "metadata": {},
     "output_type": "execute_result"
    }
   ],
   "source": [
    "#méthode transform\n",
    "transformer.transform(X)"
   ]
  },
  {
   "cell_type": "code",
   "execution_count": 6,
   "id": "e2bbebad",
   "metadata": {},
   "outputs": [
    {
     "data": {
      "text/plain": [
       "array([0, 1, 0, 2], dtype=int64)"
      ]
     },
     "execution_count": 6,
     "metadata": {},
     "output_type": "execute_result"
    }
   ],
   "source": [
    "#méthode fit & transform\n",
    "transformer.fit_transform(X)"
   ]
  },
  {
   "cell_type": "markdown",
   "id": "168c57d6",
   "metadata": {},
   "source": [
    "# Encodage(variable qualitatives)\n",
    "ordinal & One-hot"
   ]
  },
  {
   "cell_type": "markdown",
   "id": "c832264d",
   "metadata": {},
   "source": [
    "# ordinal"
   ]
  },
  {
   "cell_type": "code",
   "execution_count": 7,
   "id": "c14c0e65",
   "metadata": {},
   "outputs": [
    {
     "data": {
      "text/plain": [
       "array([0, 1, 0, 2], dtype=int64)"
      ]
     },
     "execution_count": 7,
     "metadata": {},
     "output_type": "execute_result"
    }
   ],
   "source": [
    "#LabelEncoder : encode les classes & les variables catégoriques(y) en numérique\n",
    "y = np.array(['chat','chien','chat','oiseau'])\n",
    "encoder = LabelEncoder()\n",
    "encoder.fit_transform(y)"
   ]
  },
  {
   "cell_type": "code",
   "execution_count": 8,
   "id": "e10705ba",
   "metadata": {},
   "outputs": [
    {
     "data": {
      "text/plain": [
       "array(['chat', 'chat', 'oiseau', 'oiseau'], dtype='<U6')"
      ]
     },
     "execution_count": 8,
     "metadata": {},
     "output_type": "execute_result"
    }
   ],
   "source": [
    "#inverse_transform : décoder les données\n",
    "encoder.inverse_transform(np.array([0,0,2,2]))"
   ]
  },
  {
   "cell_type": "code",
   "execution_count": 9,
   "id": "c1299866",
   "metadata": {},
   "outputs": [
    {
     "data": {
      "text/plain": [
       "array([[0., 1.],\n",
       "       [1., 1.],\n",
       "       [0., 1.],\n",
       "       [2., 0.]])"
      ]
     },
     "execution_count": 9,
     "metadata": {},
     "output_type": "execute_result"
    }
   ],
   "source": [
    "#ordinal encoder : encode les variables catégoriques(X) en numérique\n",
    "X = np.array([['chat', 'poils'],\n",
    "             ['chien', 'poils'],\n",
    "             ['chat', 'poils'],\n",
    "             ['oiseau', 'plumes']])\n",
    "encoder = OrdinalEncoder()\n",
    "encoder.fit_transform(X)"
   ]
  },
  {
   "cell_type": "markdown",
   "id": "71919786",
   "metadata": {},
   "source": [
    "# One Hot(Matrise creuse:des uns)"
   ]
  },
  {
   "cell_type": "code",
   "execution_count": 10,
   "id": "15423db6",
   "metadata": {},
   "outputs": [
    {
     "data": {
      "text/plain": [
       "array([[1, 0, 0],\n",
       "       [0, 1, 0],\n",
       "       [1, 0, 0],\n",
       "       [0, 0, 1]])"
      ]
     },
     "execution_count": 10,
     "metadata": {},
     "output_type": "execute_result"
    }
   ],
   "source": [
    "#LabelBinarizer : encode les classes & les variables catégoriques(y) en One-Hot\n",
    "y = np.array(['chat','chien','chat','oiseau'])\n",
    "encoder = LabelBinarizer()\n",
    "encoder.fit_transform(y)\n",
    "#encoder = LabelBinarizer(sparse_output=True) matrice compressée en CSR"
   ]
  },
  {
   "cell_type": "code",
   "execution_count": 11,
   "id": "ce2df109",
   "metadata": {},
   "outputs": [
    {
     "data": {
      "text/plain": [
       "<4x5 sparse matrix of type '<class 'numpy.float64'>'\n",
       "\twith 8 stored elements in Compressed Sparse Row format>"
      ]
     },
     "execution_count": 11,
     "metadata": {},
     "output_type": "execute_result"
    }
   ],
   "source": [
    "#One-Hot Encoder : encode les variables catégoriques(X) en One-Hot\n",
    "X = np.array([['chat', 'poils'],\n",
    "             ['chien', 'poils'],\n",
    "             ['chat', 'poils'],\n",
    "             ['oiseau', 'plumes']])\n",
    "encoder = OneHotEncoder()\n",
    "encoder.fit_transform(X) #matrice devient compressée"
   ]
  },
  {
   "cell_type": "markdown",
   "id": "507e9224",
   "metadata": {},
   "source": [
    "# Normalisation(variables quantitatives)\n",
    "But : converger le fct cout vers le minimum\n",
    "\n",
    "==> sensible au outliers(data difficile à exploiter)"
   ]
  },
  {
   "cell_type": "markdown",
   "id": "d29d45f4",
   "metadata": {},
   "source": [
    "# Normalisation MinMax (transforme chaque var X pour etre entre 0 et 1(par calculs))"
   ]
  },
  {
   "cell_type": "markdown",
   "id": "1a915d4c",
   "metadata": {},
   "source": [
    "fit_transform(X_train);\n",
    "\n",
    "    X_train_scaled = (X_train - X_train_min) / (X_train_max-X_train_min)\n",
    "\n",
    "transform(X_test);\n",
    "\n",
    "    X_test_scaled = (X_test - X_train_min) / (X_train_max-X_train_min)"
   ]
  },
  {
   "cell_type": "code",
   "execution_count": 12,
   "id": "954a5ec0",
   "metadata": {},
   "outputs": [],
   "source": [
    "X = np.array([[70],\n",
    "              [80],\n",
    "               [120]])"
   ]
  },
  {
   "cell_type": "code",
   "execution_count": 13,
   "id": "18aef10f",
   "metadata": {},
   "outputs": [
    {
     "data": {
      "text/plain": [
       "array([[0. ],\n",
       "       [0.2],\n",
       "       [1. ]])"
      ]
     },
     "execution_count": 13,
     "metadata": {},
     "output_type": "execute_result"
    }
   ],
   "source": [
    "scaler = MinMaxScaler()\n",
    "scaler.fit_transform(X)"
   ]
  },
  {
   "cell_type": "code",
   "execution_count": 14,
   "id": "cb7819f1",
   "metadata": {},
   "outputs": [
    {
     "data": {
      "text/plain": [
       "array([[0.4]])"
      ]
     },
     "execution_count": 14,
     "metadata": {},
     "output_type": "execute_result"
    }
   ],
   "source": [
    "X_test = np.array([[90]])\n",
    "scaler.transform(X_test)"
   ]
  },
  {
   "cell_type": "code",
   "execution_count": 15,
   "id": "d159200f",
   "metadata": {},
   "outputs": [
    {
     "data": {
      "image/png": "[encoded data removed]",
      "text/plain": [
       "<Figure size 432x288 with 1 Axes>"
      ]
     },
     "metadata": {
      "needs_background": "light"
     },
     "output_type": "display_data"
    }
   ],
   "source": [
    "from sklearn.datasets import load_iris\n",
    "import matplotlib.pyplot as plt \n",
    "\n",
    "iris = load_iris()\n",
    "X = iris.data\n",
    "\n",
    "X_minmax = MinMaxScaler().fit_transform(X)\n",
    "\n",
    "plt.scatter(X[:, 2], X[:, 3], c='b')\n",
    "plt.scatter(X_minmax[:, 2], X_minmax[:, 3], c='r')\n",
    "\n",
    "plt.legend(['original', 'minmax'])\n",
    "plt.show() #normalisation entre [0,1]"
   ]
  },
  {
   "cell_type": "markdown",
   "id": "9aa51f1f",
   "metadata": {},
   "source": [
    "# Standardisation (standardise chaque variable X : la moyenne est nulle et l'écart type=1)\n",
    "\n",
    "Xscaled = (X - Moyenne_X) / écart_type"
   ]
  },
  {
   "cell_type": "code",
   "execution_count": 16,
   "id": "84ffef16",
   "metadata": {},
   "outputs": [],
   "source": [
    "X = np.array([[70],\n",
    "              [80],\n",
    "               [120]])"
   ]
  },
  {
   "cell_type": "code",
   "execution_count": 17,
   "id": "d825581b",
   "metadata": {},
   "outputs": [
    {
     "data": {
      "text/plain": [
       "array([[-0.9258201 ],\n",
       "       [-0.46291005],\n",
       "       [ 1.38873015]])"
      ]
     },
     "execution_count": 17,
     "metadata": {},
     "output_type": "execute_result"
    }
   ],
   "source": [
    "scaler = StandardScaler()\n",
    "scaler.fit_transform(X) #std=1 ; moy=0"
   ]
  },
  {
   "cell_type": "code",
   "execution_count": 25,
   "id": "2ab34218",
   "metadata": {},
   "outputs": [
    {
     "data": {
      "image/png": "[encoded data removed]",
      "text/plain": [
       "<Figure size 432x288 with 1 Axes>"
      ]
     },
     "metadata": {
      "needs_background": "light"
     },
     "output_type": "display_data"
    }
   ],
   "source": [
    "iris = load_iris()\n",
    "X = iris.data\n",
    "\n",
    "X_minmax = MinMaxScaler().fit_transform(X)\n",
    "X_std = StandardScaler().fit_transform(X)\n",
    "\n",
    "#comparaison entre courbe minmax & standard\n",
    "plt.scatter(X[:, 2], X[:, 3], c='b')\n",
    "plt.scatter(X_minmax[:, 2], X_minmax[:, 3], c='r')\n",
    "plt.scatter(X_std[:, 2], X_std[:, 3], c='y')\n",
    "\n",
    "plt.legend(['original', 'MinMax', 'StandardScaler', 'RobustScaler'])\n",
    "plt.show() #normalisation entre [0,1]"
   ]
  },
  {
   "cell_type": "markdown",
   "id": "6c495788",
   "metadata": {},
   "source": [
    "# RobustScaler (trés peu sensible au outliers)\n",
    "\n",
    "Xscaled = (X - mediane) / IQR"
   ]
  },
  {
   "cell_type": "code",
   "execution_count": 24,
   "id": "3015c79a",
   "metadata": {},
   "outputs": [
    {
     "data": {
      "image/png": "[encoded data removed]",
      "text/plain": [
       "<Figure size 432x288 with 1 Axes>"
      ]
     },
     "metadata": {
      "needs_background": "light"
     },
     "output_type": "display_data"
    }
   ],
   "source": [
    "iris = load_iris()\n",
    "X = iris.data\n",
    "\n",
    "X_minmax = MinMaxScaler().fit_transform(X)\n",
    "X_std = StandardScaler().fit_transform(X)\n",
    "X_robust = RobustScaler().fit_transform(X)\n",
    "\n",
    "#comparaison entre courbe original & RobustScaler\n",
    "plt.scatter(X[:, 2], X[:, 3], c='b')\n",
    "plt.scatter(X_minmax[:, 2], X_minmax[:, 3], c='r')\n",
    "plt.scatter(X_std[:, 2], X_std[:, 3], c='y')\n",
    "plt.scatter(X_robust[:, 2], X_robust[:, 3], c='g')\n",
    "\n",
    "plt.legend(['original', 'MinMax', 'StandardScaler', 'RobustScaler'])\n",
    "plt.show() #normalisation entre [0,1]"
   ]
  },
  {
   "cell_type": "markdown",
   "id": "9ef3e2a6",
   "metadata": {},
   "source": [
    "# PolynomialFeatures"
   ]
  },
  {
   "cell_type": "code",
   "execution_count": 30,
   "id": "a1a65a3a",
   "metadata": {},
   "outputs": [
    {
     "data": {
      "text/plain": [
       "array([[1.   , 1.   , 1.   , 1.   ],\n",
       "       [1.   , 2.   , 4.   , 8.   ],\n",
       "       [1.   , 0.5  , 0.25 , 0.125]])"
      ]
     },
     "execution_count": 30,
     "metadata": {},
     "output_type": "execute_result"
    }
   ],
   "source": [
    "X = np.array([[1],\n",
    "             [2],\n",
    "             [0.5]])\n",
    "PolynomialFeatures(3).fit_transform(X)"
   ]
  },
  {
   "cell_type": "code",
   "execution_count": 38,
   "id": "11554ace",
   "metadata": {},
   "outputs": [
    {
     "data": {
      "text/plain": [
       "[<matplotlib.lines.Line2D at 0x289e632a700>]"
      ]
     },
     "execution_count": 38,
     "metadata": {},
     "output_type": "execute_result"
    },
    {
     "data": {
      "image/png": "[encoded data removed]",
      "text/plain": [
       "<Figure size 432x288 with 1 Axes>"
      ]
     },
     "metadata": {
      "needs_background": "light"
     },
     "output_type": "display_data"
    }
   ],
   "source": [
    "X=np.linspace(0,4,100).reshape((100,1))\n",
    "y=X**2+5*np.cos(X)+np.random.randn(100,1)\n",
    "\n",
    "plt.scatter(X,y)\n",
    "\n",
    "model = LinearRegression().fit(X,y)\n",
    "y_pred=model.predict(X)\n",
    "plt.plot(X,y_pred,c='r',lw=3)"
   ]
  },
  {
   "cell_type": "code",
   "execution_count": 41,
   "id": "10114518",
   "metadata": {},
   "outputs": [
    {
     "data": {
      "text/plain": [
       "[<matplotlib.lines.Line2D at 0x289e6429bb0>]"
      ]
     },
     "execution_count": 41,
     "metadata": {},
     "output_type": "execute_result"
    },
    {
     "data": {
      "image/png": "[encoded data removed]",
      "text/plain": [
       "<Figure size 432x288 with 1 Axes>"
      ]
     },
     "metadata": {
      "needs_background": "light"
     },
     "output_type": "display_data"
    }
   ],
   "source": [
    "X=np.linspace(0,4,100).reshape((100,1))\n",
    "y=X**2+5*np.cos(X)+np.random.randn(100,1)\n",
    "\n",
    "plt.scatter(X,y)\n",
    "\n",
    "X_poly=PolynomialFeatures(3).fit_transform(X) #modéle bien plus sofistiquée et performant\n",
    "\n",
    "model = LinearRegression().fit(X_poly,y)\n",
    "y_pred=model.predict(X_poly)\n",
    "plt.plot(X,y_pred,c='r',lw=3)"
   ]
  },
  {
   "cell_type": "markdown",
   "id": "18b2d911",
   "metadata": {},
   "source": [
    "# PowerTransformer (Transformation non linéaire)"
   ]
  },
  {
   "cell_type": "code",
   "execution_count": 52,
   "id": "d8c35d5f",
   "metadata": {},
   "outputs": [
    {
     "data": {
      "image/png": "[encoded data removed]",
      "text/plain": [
       "<Figure size 432x288 with 1 Axes>"
      ]
     },
     "metadata": {
      "needs_background": "light"
     },
     "output_type": "display_data"
    }
   ],
   "source": [
    "np.random.seed(0)\n",
    "X = np.random.rand(100, 2) + np.random.randn(100, 2)\n",
    "\n",
    "X2 = PowerTransformer().fit_transform(X)\n",
    "   \n",
    "plt.hist(X[:,0], bins=30, alpha=0.7, label='original')\n",
    "plt.hist(X2[:,0], bins=30, alpha=0.7, label='PowerTransformer')\n",
    "plt.legend()\n",
    "plt.show()"
   ]
  },
  {
   "cell_type": "markdown",
   "id": "fb0fd660",
   "metadata": {},
   "source": [
    "# Discrétisation"
   ]
  },
  {
   "cell_type": "code",
   "execution_count": 57,
   "id": "36ad33a1",
   "metadata": {},
   "outputs": [
    {
     "data": {
      "text/plain": [
       "array([[0.        ],\n",
       "       [0.55555556],\n",
       "       [1.11111111],\n",
       "       [1.66666667],\n",
       "       [2.22222222],\n",
       "       [2.77777778],\n",
       "       [3.33333333],\n",
       "       [3.88888889],\n",
       "       [4.44444444],\n",
       "       [5.        ]])"
      ]
     },
     "execution_count": 57,
     "metadata": {},
     "output_type": "execute_result"
    }
   ],
   "source": [
    "#Transformer Binarizer : diviser variable en deux catégories\n",
    "X = np.linspace(0, 5, 10).reshape(10, 1)\n",
    "X"
   ]
  },
  {
   "cell_type": "code",
   "execution_count": 63,
   "id": "4b41499b",
   "metadata": {},
   "outputs": [
    {
     "data": {
      "text/plain": [
       "array([[0.        , 0.        ],\n",
       "       [0.55555556, 0.        ],\n",
       "       [1.11111111, 0.        ],\n",
       "       [1.66666667, 0.        ],\n",
       "       [2.22222222, 0.        ],\n",
       "       [2.77777778, 0.        ],\n",
       "       [3.33333333, 1.        ],\n",
       "       [3.88888889, 1.        ],\n",
       "       [4.44444444, 1.        ],\n",
       "       [5.        , 1.        ]])"
      ]
     },
     "execution_count": 63,
     "metadata": {},
     "output_type": "execute_result"
    }
   ],
   "source": [
    "np.hstack((X, Binarizer(threshold = 3).fit_transform(X)))"
   ]
  },
  {
   "cell_type": "code",
   "execution_count": 64,
   "id": "d9c8fe63",
   "metadata": {},
   "outputs": [
    {
     "data": {
      "text/plain": [
       "array([[1., 0., 0., 0., 0., 0.],\n",
       "       [1., 0., 0., 0., 0., 0.],\n",
       "       [0., 1., 0., 0., 0., 0.],\n",
       "       [0., 0., 1., 0., 0., 0.],\n",
       "       [0., 0., 1., 0., 0., 0.],\n",
       "       [0., 0., 0., 1., 0., 0.],\n",
       "       [0., 0., 0., 0., 1., 0.],\n",
       "       [0., 0., 0., 0., 1., 0.],\n",
       "       [0., 0., 0., 0., 0., 1.],\n",
       "       [0., 0., 0., 0., 0., 1.]])"
      ]
     },
     "execution_count": 64,
     "metadata": {},
     "output_type": "execute_result"
    }
   ],
   "source": [
    "#KBinsDiscretizer : division en plus que deux catégorie\n",
    "KBinsDiscretizer(n_bins=6).fit_transform(X).toarray()"
   ]
  },
  {
   "cell_type": "markdown",
   "id": "776efa73",
   "metadata": {},
   "source": [
    "# Personnalisation (FunctionTransformer)"
   ]
  },
  {
   "cell_type": "code",
   "execution_count": 67,
   "id": "29d0df1f",
   "metadata": {},
   "outputs": [
    {
     "data": {
      "text/plain": [
       "array([[0.69314718],\n",
       "       [0.89381788],\n",
       "       [1.06087196],\n",
       "       [1.2039728 ],\n",
       "       [1.32913595],\n",
       "       [1.44036158],\n",
       "       [1.54044504],\n",
       "       [1.63141682],\n",
       "       [1.71479843],\n",
       "       [1.79175947]])"
      ]
     },
     "execution_count": 67,
     "metadata": {},
     "output_type": "execute_result"
    }
   ],
   "source": [
    "X=np.linspace(1,5,10).reshape((-1,1))\n",
    "Mon_transformer = FunctionTransformer(func=np.log1p,\n",
    "                                   inverse_func=np.expm1)\n",
    "Mon_transformer.fit_transform(X)"
   ]
  },
  {
   "cell_type": "markdown",
   "id": "cf662001",
   "metadata": {},
   "source": [
    "# Pipeline & Composite Estimator\n",
    "\n",
    "1. Une pipeline est simple à utiliser\n",
    "2. Sécurisé(pas des fuites des datas ou des datas mal transformées)\n",
    "3. permet de faire des cross validation"
   ]
  },
  {
   "cell_type": "code",
   "execution_count": 70,
   "id": "743045f5",
   "metadata": {},
   "outputs": [],
   "source": [
    "from sklearn.model_selection import train_test_split\n",
    "from sklearn.linear_model import SGDClassifier"
   ]
  },
  {
   "cell_type": "markdown",
   "id": "bf128240",
   "metadata": {},
   "source": [
    "1ére méthode"
   ]
  },
  {
   "cell_type": "code",
   "execution_count": 71,
   "id": "0a3e82e0",
   "metadata": {},
   "outputs": [],
   "source": [
    "X = iris.data\n",
    "y = iris.target\n",
    "\n",
    "X_train, X_test, y_train, y_test = train_test_split(X, y, test_size=0.2)"
   ]
  },
  {
   "cell_type": "code",
   "execution_count": 77,
   "id": "2dfed094",
   "metadata": {},
   "outputs": [
    {
     "data": {
      "text/plain": [
       "array([1, 2, 0, 1, 2, 0, 2, 0, 0, 0, 0, 1, 2, 2, 1, 0, 2, 2, 2, 2, 2, 2,\n",
       "       1, 2, 2, 1, 2, 1, 1, 0])"
      ]
     },
     "execution_count": 77,
     "metadata": {},
     "output_type": "execute_result"
    }
   ],
   "source": [
    "#Transformer\n",
    "scaler = StandardScaler()\n",
    "X_train_transformed = scaler.fit_transform(X_train)\n",
    "\n",
    "#Estimateur\n",
    "model = SGDClassifier(random_state=0)\n",
    "model.fit(X_train_transformed, y_train)\n",
    "\n",
    "#Test\n",
    "X_test_tranformed = scaler.transform(X_test)\n",
    "model.predict(X_test_tranformed)"
   ]
  },
  {
   "cell_type": "markdown",
   "id": "e6af1dac",
   "metadata": {},
   "source": [
    "Solution de remplacer la 1ére méthode"
   ]
  },
  {
   "cell_type": "code",
   "execution_count": 100,
   "id": "09ba085e",
   "metadata": {},
   "outputs": [
    {
     "data": {
      "text/plain": [
       "array([1, 2, 0, 1, 1, 0, 2, 0, 0, 0, 0, 1, 1, 2, 2, 0, 2, 2, 2, 2, 2, 1,\n",
       "       2, 1, 2, 0, 2, 1, 1, 0])"
      ]
     },
     "execution_count": 100,
     "metadata": {},
     "output_type": "execute_result"
    }
   ],
   "source": [
    "from sklearn.pipeline import make_pipeline\n",
    "model = make_pipeline(StandardScaler(),\n",
    "                      SGDClassifier())\n",
    "model.fit(X_train,y_train)\n",
    "model.predict(X_test)"
   ]
  },
  {
   "cell_type": "markdown",
   "id": "a617776f",
   "metadata": {},
   "source": [
    "# Pipeline GridSearchCV"
   ]
  },
  {
   "cell_type": "code",
   "execution_count": 94,
   "id": "bc9dd2bc",
   "metadata": {},
   "outputs": [],
   "source": [
    "from sklearn.model_selection import GridSearchCV"
   ]
  },
  {
   "cell_type": "code",
   "execution_count": 106,
   "id": "ed47b724",
   "metadata": {},
   "outputs": [
    {
     "data": {
      "text/plain": [
       "GridSearchCV(cv=4,\n",
       "             estimator=Pipeline(steps=[('polynomialfeatures',\n",
       "                                        PolynomialFeatures()),\n",
       "                                       ('standardscaler', StandardScaler()),\n",
       "                                       ('sgdclassifier',\n",
       "                                        SGDClassifier(random_state=0))]),\n",
       "             param_grid={'polynomialfeatures__degree': [2, 3, 4],\n",
       "                         'sgdclassifier__penalty': ['l1', 'l2']})"
      ]
     },
     "execution_count": 106,
     "metadata": {},
     "output_type": "execute_result"
    }
   ],
   "source": [
    "model = make_pipeline(PolynomialFeatures(),\n",
    "                      StandardScaler(),\n",
    "                      SGDClassifier(random_state = 0))\n",
    "#model\n",
    "params={\n",
    "    'polynomialfeatures__degree' : [2,3,4],\n",
    "    'sgdclassifier__penalty' : ['l1','l2']\n",
    "}\n",
    "grid = GridSearchCV(model, param_grid=params, cv=4)\n",
    "grid.fit(X_train,y_train)"
   ]
  },
  {
   "cell_type": "code",
   "execution_count": 107,
   "id": "642d28a4",
   "metadata": {},
   "outputs": [
    {
     "data": {
      "text/plain": [
       "{'polynomialfeatures__degree': 2, 'sgdclassifier__penalty': 'l1'}"
      ]
     },
     "execution_count": 107,
     "metadata": {},
     "output_type": "execute_result"
    }
   ],
   "source": [
    "grid.best_params_"
   ]
  },
  {
   "cell_type": "code",
   "execution_count": 108,
   "id": "16a9dc34",
   "metadata": {},
   "outputs": [
    {
     "data": {
      "text/plain": [
       "0.9"
      ]
     },
     "execution_count": 108,
     "metadata": {},
     "output_type": "execute_result"
    }
   ],
   "source": [
    "grid.score(X_test, y_test)"
   ]
  },
  {
   "cell_type": "code",
   "execution_count": null,
   "id": "a1e4b7e6",
   "metadata": {},
   "outputs": [],
   "source": []
  }
 ],
 "metadata": {
  "kernelspec": {
   "display_name": "Python 3 (ipykernel)",
   "language": "python",
   "name": "python3"
  },
  "language_info": {
   "codemirror_mode": {
    "name": "ipython",
    "version": 3
   },
   "file_extension": ".py",
   "mimetype": "text/x-python",
   "name": "python",
   "nbconvert_exporter": "python",
   "pygments_lexer": "ipython3",
   "version": "3.9.12"
  }
 },
 "nbformat": 4,
 "nbformat_minor": 5
}
