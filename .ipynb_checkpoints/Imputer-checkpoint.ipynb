{
 "cells": [
  {
   "cell_type": "markdown",
   "id": "2ea90051",
   "metadata": {},
   "source": [
    "# SimpleImputer"
   ]
  },
  {
   "cell_type": "code",
   "execution_count": 5,
   "id": "50c27d0f",
   "metadata": {},
   "outputs": [],
   "source": [
    "from sklearn.impute import SimpleImputer\n",
    "import numpy as np"
   ]
  },
  {
   "cell_type": "code",
   "execution_count": 6,
   "id": "4c66c6e0",
   "metadata": {},
   "outputs": [],
   "source": [
    "X = np.array([[10, 3],\n",
    "            [0, 4],\n",
    "            [5, 3],\n",
    "            [np.nan, 3]])"
   ]
  },
  {
   "cell_type": "markdown",
   "id": "0e426dc5",
   "metadata": {},
   "source": [
    "Remplacement suivant la strategy(mean, median, most_frequent, constant)"
   ]
  },
  {
   "cell_type": "code",
   "execution_count": 7,
   "id": "f1ff08d9",
   "metadata": {},
   "outputs": [
    {
     "data": {
      "text/plain": [
       "array([[10.,  3.],\n",
       "       [ 0.,  4.],\n",
       "       [ 5.,  3.],\n",
       "       [ 5.,  3.]])"
      ]
     },
     "execution_count": 7,
     "metadata": {},
     "output_type": "execute_result"
    }
   ],
   "source": [
    "imputer = SimpleImputer(missing_values=np.nan, strategy='mean')\n",
    "imputer.fit_transform(X)"
   ]
  },
  {
   "cell_type": "code",
   "execution_count": 8,
   "id": "018d142e",
   "metadata": {},
   "outputs": [],
   "source": [
    "X_test = np.array([[12, 5],\n",
    "                    [40, 2],\n",
    "                     [5, 5],\n",
    "                    [np.nan, np.nan]])"
   ]
  },
  {
   "cell_type": "code",
   "execution_count": 9,
   "id": "774f2df5",
   "metadata": {},
   "outputs": [
    {
     "data": {
      "text/plain": [
       "array([[12.  ,  5.  ],\n",
       "       [40.  ,  2.  ],\n",
       "       [ 5.  ,  5.  ],\n",
       "       [ 5.  ,  3.25]])"
      ]
     },
     "execution_count": 9,
     "metadata": {},
     "output_type": "execute_result"
    }
   ],
   "source": [
    "imputer.transform(X_test) #transform(X_test) :remplace les valeurs manquantes par les moyennes calculées sur X_train"
   ]
  },
  {
   "cell_type": "markdown",
   "id": "652999e8",
   "metadata": {},
   "source": [
    "==>le calcul du moyenne de X_train & X_test ensemble provoque une fuite d'information du test_set vers le train_set\n",
    "\n",
    "==> il faut les séparer"
   ]
  },
  {
   "cell_type": "markdown",
   "id": "d7103985",
   "metadata": {},
   "source": [
    "# KNNImputer\n",
    "\n",
    "Remplace toutes les valeurs manquantes par des valeurs des plus proches voisins"
   ]
  },
  {
   "cell_type": "code",
   "execution_count": 10,
   "id": "0075f3a6",
   "metadata": {},
   "outputs": [],
   "source": [
    "from sklearn.impute import KNNImputer"
   ]
  },
  {
   "cell_type": "code",
   "execution_count": 11,
   "id": "f832030d",
   "metadata": {},
   "outputs": [],
   "source": [
    "X = np.array([[10, 3],\n",
    "            [0, 4],\n",
    "            [5, 3],\n",
    "            [np.nan, 3]])"
   ]
  },
  {
   "cell_type": "code",
   "execution_count": 12,
   "id": "f36a8a2c",
   "metadata": {},
   "outputs": [
    {
     "data": {
      "text/plain": [
       "array([[10.,  3.],\n",
       "       [ 0.,  4.],\n",
       "       [ 5.,  3.],\n",
       "       [10.,  3.]])"
      ]
     },
     "execution_count": 12,
     "metadata": {},
     "output_type": "execute_result"
    }
   ],
   "source": [
    "imputer = KNNImputer(n_neighbors=1)\n",
    "imputer.fit_transform(X)"
   ]
  },
  {
   "cell_type": "markdown",
   "id": "62d841db",
   "metadata": {},
   "source": [
    "# MissingIndicator\n",
    "\n",
    "variable boléenne qui indique l'absence de valeurs dans le dataset"
   ]
  },
  {
   "cell_type": "code",
   "execution_count": 13,
   "id": "d4b9f16d",
   "metadata": {},
   "outputs": [],
   "source": [
    "from sklearn.impute import MissingIndicator"
   ]
  },
  {
   "cell_type": "code",
   "execution_count": 14,
   "id": "7eff18df",
   "metadata": {},
   "outputs": [],
   "source": [
    "# let's take X as Titanic dataset\n",
    "X = np.array([[1, 100],\n",
    "            [2, 30],\n",
    "            [3, 15],\n",
    "            [np.nan, np.nan]])"
   ]
  },
  {
   "cell_type": "code",
   "execution_count": 15,
   "id": "3adf5c59",
   "metadata": {},
   "outputs": [
    {
     "data": {
      "text/plain": [
       "array([[False, False],\n",
       "       [False, False],\n",
       "       [False, False],\n",
       "       [ True,  True]])"
      ]
     },
     "execution_count": 15,
     "metadata": {},
     "output_type": "execute_result"
    }
   ],
   "source": [
    "imputer = MissingIndicator()\n",
    "imputer.fit_transform(X) # indique l'absence de valeurs dans le dataset ou non"
   ]
  },
  {
   "cell_type": "markdown",
   "id": "3aed6e02",
   "metadata": {},
   "source": [
    "make_union: créer tel colonne + traiter plusieurs données parallélement puis concaténer dans un seul tableau"
   ]
  },
  {
   "cell_type": "code",
   "execution_count": 16,
   "id": "5e3154e7",
   "metadata": {},
   "outputs": [
    {
     "data": {
      "text/plain": [
       "array([[  1., 100.,   0.,   0.],\n",
       "       [  2.,  30.,   0.,   0.],\n",
       "       [  3.,  15.,   0.,   0.],\n",
       "       [-99., -99.,   1.,   1.]])"
      ]
     },
     "execution_count": 16,
     "metadata": {},
     "output_type": "execute_result"
    }
   ],
   "source": [
    "from sklearn.pipeline import make_union  \n",
    "\n",
    "pipeline = make_union(SimpleImputer(strategy='constant', fill_value=-99),\n",
    "                      MissingIndicator())\n",
    "#SimpleImputer: nous donne la classe d'un passager et prix de son ticket\n",
    "#MissingIndicator: nous donne soit un passager soit un membre d'équipage\n",
    "pipeline.fit_transform(X) "
   ]
  },
  {
   "cell_type": "markdown",
   "id": "824b81c5",
   "metadata": {},
   "source": [
    "# APPLICATION : \n",
    "optimiser le nbr de paramétres KNNImputer grace à GridSearchCV"
   ]
  },
  {
   "cell_type": "code",
   "execution_count": 17,
   "id": "e734d54e",
   "metadata": {},
   "outputs": [],
   "source": [
    "import pandas as pd\n",
    "from sklearn.pipeline import make_pipeline\n",
    "from sklearn.linear_model import SGDClassifier\n",
    "from sklearn.model_selection import GridSearchCV"
   ]
  },
  {
   "cell_type": "code",
   "execution_count": 18,
   "id": "77e82c21",
   "metadata": {},
   "outputs": [],
   "source": [
    "titanic = pd.read_csv('titanic-passengers.csv', sep=';')\n"
   ]
  },
  {
   "cell_type": "code",
   "execution_count": 19,
   "id": "f02f002d",
   "metadata": {},
   "outputs": [],
   "source": [
    "X=titanic[['Pclass', 'Age']]\n",
    "y=titanic['Survived']"
   ]
  },
  {
   "cell_type": "code",
   "execution_count": 20,
   "id": "c9a8d74d",
   "metadata": {},
   "outputs": [],
   "source": [
    "from sklearn.model_selection import train_test_split"
   ]
  },
  {
   "cell_type": "code",
   "execution_count": 21,
   "id": "b7b694b1",
   "metadata": {},
   "outputs": [],
   "source": [
    "X_train, X_test, y_train, y_test = train_test_split(\n",
    "            X, y, test_size=0.30, random_state=42)"
   ]
  },
  {
   "cell_type": "code",
   "execution_count": 22,
   "id": "b703ada7",
   "metadata": {},
   "outputs": [],
   "source": [
    "model = make_pipeline(KNNImputer(), SGDClassifier())"
   ]
  },
  {
   "cell_type": "code",
   "execution_count": 23,
   "id": "79d9d88f",
   "metadata": {},
   "outputs": [],
   "source": [
    "params = {\n",
    "    'knnimputer__n_neighbors': [1,2,3,4]\n",
    "}"
   ]
  },
  {
   "cell_type": "code",
   "execution_count": 27,
   "id": "9cbd8bce",
   "metadata": {},
   "outputs": [],
   "source": [
    "grid = GridSearchCV(model, params, cv=5)"
   ]
  },
  {
   "cell_type": "code",
   "execution_count": 28,
   "id": "86c38985",
   "metadata": {},
   "outputs": [
    {
     "data": {
      "text/plain": [
       "GridSearchCV(cv=5,\n",
       "             estimator=Pipeline(steps=[('knnimputer', KNNImputer()),\n",
       "                                       ('sgdclassifier', SGDClassifier())]),\n",
       "             param_grid={'knnimputer__n_neighbors': [1, 2, 3, 4]})"
      ]
     },
     "execution_count": 28,
     "metadata": {},
     "output_type": "execute_result"
    }
   ],
   "source": [
    "grid.fit(X_train, y_train)"
   ]
  },
  {
   "cell_type": "code",
   "execution_count": 29,
   "id": "b50cc77a",
   "metadata": {},
   "outputs": [
    {
     "data": {
      "text/plain": [
       "{'knnimputer__n_neighbors': 2}"
      ]
     },
     "execution_count": 29,
     "metadata": {},
     "output_type": "execute_result"
    }
   ],
   "source": [
    "grid.best_params_"
   ]
  },
  {
   "cell_type": "code",
   "execution_count": null,
   "id": "7b903a3e",
   "metadata": {},
   "outputs": [],
   "source": []
  },
  {
   "cell_type": "code",
   "execution_count": null,
   "id": "bb5a413f",
   "metadata": {},
   "outputs": [],
   "source": []
  }
 ],
 "metadata": {
  "kernelspec": {
   "display_name": "Python 3 (ipykernel)",
   "language": "python",
   "name": "python3"
  },
  "language_info": {
   "codemirror_mode": {
    "name": "ipython",
    "version": 3
   },
   "file_extension": ".py",
   "mimetype": "text/x-python",
   "name": "python",
   "nbconvert_exporter": "python",
   "pygments_lexer": "ipython3",
   "version": "3.9.12"
  }
 },
 "nbformat": 4,
 "nbformat_minor": 5
}
